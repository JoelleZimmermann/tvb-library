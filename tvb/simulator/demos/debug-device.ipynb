{
 "worksheets": [
  {
   "cells": [
    {
     "cell_type": "code",
     "metadata": {},
     "outputs": [
      {
       "output_type": "stream",
       "stream": "stdout",
       "text": [
        "Populating the interactive namespace from numpy and matplotlib\n"
       ]
      }
     ],
     "input": [
      "%pylab inline"
     ],
     "language": "python",
     "prompt_number": 5
    },
    {
     "cell_type": "markdown",
     "metadata": {},
     "source": [
      "Common imports"
     ]
    },
    {
     "cell_type": "code",
     "metadata": {},
     "outputs": [],
     "input": [
      "import time\n",
      "import itertools\n",
      "from pylab import *\n",
      "from numpy import *\n",
      "import pylab as pl"
     ],
     "language": "python",
     "prompt_number": 15
    },
    {
     "cell_type": "markdown",
     "metadata": {},
     "source": [
      "TVB imports"
     ]
    },
    {
     "cell_type": "code",
     "metadata": {},
     "outputs": [],
     "input": [
      "import sys\n",
      "sys.path.append('/home/duke/dev/tvb-library')"
     ],
     "language": "python",
     "prompt_number": 1
    },
    {
     "cell_type": "code",
     "metadata": {},
     "outputs": [
      {
       "output_type": "stream",
       "stream": "stderr",
       "text": [
        "DEBUG:tvb.simulator.backend.driver:using_gpu = 1\n"
       ]
      },
      {
       "output_type": "stream",
       "stream": "stdout",
       "text": [
        "10 10\n"
       ]
      },
      {
       "output_type": "pyout",
       "prompt_number": 8,
       "text": [
        "<module 'tvb.simulator.backend.driver' from '/home/duke/dev/tvb-library/tvb/simulator/backend/driver.py'>"
       ],
       "metadata": {}
      }
     ],
     "input": [
      "from tvb.simulator import lab\n",
      "from tvb.simulator.backend import driver_conf\n",
      "driver_conf.using_gpu = 1\n",
      "from tvb.simulator.backend import driver, util\n",
      "reload(driver)"
     ],
     "language": "python",
     "prompt_number": 8
    },
    {
     "cell_type": "markdown",
     "metadata": {},
     "source": [
      "Getting started, we'll define a function generating a prototypical simulation "
     ]
    },
    {
     "cell_type": "code",
     "metadata": {},
     "outputs": [],
     "input": [
      "def makesim():\n",
      "    sim = lab.simulator.Simulator(\n",
      "        model = lab.models.Generic2dOscillator(b=-10.0, c=0., d=0.02, I=0.0),\n",
      "        connectivity = lab.connectivity.Connectivity(speed=4.0),\n",
      "        coupling = lab.coupling.Linear(a=1e-2),                                         # shape must match model..\n",
      "        integrator = lab.integrators.HeunDeterministic(dt=2**-5),\n",
      "        #integrator = lab.integrators.HeunStochastic(dt=2**-5, noise=lab.noise.Additive(nsig=ones((2, 1, 1))*1e-2)),\n",
      "        monitors = lab.monitors.Raw()\n",
      "    )\n",
      "    sim.configure()\n",
      "    return sim"
     ],
     "language": "python",
     "prompt_number": 3
    },
    {
     "cell_type": "markdown",
     "metadata": {},
     "source": [
      "Parameter sweep scenario : we sweep in two dimensions over the coupling\n",
      "function's scale parameter `a`, and the excitability parameter of the \n",
      "oscillator `a`. First, we generate a list of simulations to perform:"
     ]
    },
    {
     "cell_type": "code",
     "metadata": {},
     "outputs": [
      {
       "output_type": "stream",
       "stream": "stderr",
       "text": [
        "WARNING:tvb.simulator.common:Raw(period=0.0, variables_of_interest=[]): Raw monitor ignores period argument.\n"
       ]
      },
      {
       "output_type": "stream",
       "stream": "stderr",
       "text": [
        "WARNING:tvb.simulator.common:Raw(period=0.0, variables_of_interest=[]): Raw monitor ignores period argument.\n"
       ]
      },
      {
       "output_type": "stream",
       "stream": "stderr",
       "text": [
        "WARNING:tvb.simulator.common:Raw(period=0.0, variables_of_interest=[]): Raw monitor ignores period argument.\n"
       ]
      },
      {
       "output_type": "stream",
       "stream": "stderr",
       "text": [
        "WARNING:tvb.simulator.common:Raw(period=0.0, variables_of_interest=[]): Raw monitor ignores period argument.\n"
       ]
      },
      {
       "output_type": "stream",
       "stream": "stderr",
       "text": [
        "WARNING:tvb.simulator.common:Raw(period=0.0, variables_of_interest=[]): Raw monitor ignores period argument.\n"
       ]
      },
      {
       "output_type": "stream",
       "stream": "stderr",
       "text": [
        "WARNING:tvb.simulator.common:Raw(period=0.0, variables_of_interest=[]): Raw monitor ignores period argument.\n"
       ]
      },
      {
       "output_type": "stream",
       "stream": "stderr",
       "text": [
        "WARNING:tvb.simulator.common:Raw(period=0.0, variables_of_interest=[]): Raw monitor ignores period argument.\n"
       ]
      },
      {
       "output_type": "stream",
       "stream": "stderr",
       "text": [
        "WARNING:tvb.simulator.common:Raw(period=0.0, variables_of_interest=[]): Raw monitor ignores period argument.\n"
       ]
      },
      {
       "output_type": "stream",
       "stream": "stderr",
       "text": [
        "WARNING:tvb.simulator.common:Raw(period=0.0, variables_of_interest=[]): Raw monitor ignores period argument.\n"
       ]
      },
      {
       "output_type": "stream",
       "stream": "stderr",
       "text": [
        "WARNING:tvb.simulator.common:Raw(period=0.0, variables_of_interest=[]): Raw monitor ignores period argument.\n"
       ]
      },
      {
       "output_type": "stream",
       "stream": "stderr",
       "text": [
        "WARNING:tvb.simulator.common:Raw(period=0.0, variables_of_interest=[]): Raw monitor ignores period argument.\n"
       ]
      },
      {
       "output_type": "stream",
       "stream": "stderr",
       "text": [
        "WARNING:tvb.simulator.common:Raw(period=0.0, variables_of_interest=[]): Raw monitor ignores period argument.\n"
       ]
      },
      {
       "output_type": "stream",
       "stream": "stderr",
       "text": [
        "WARNING:tvb.simulator.common:Raw(period=0.0, variables_of_interest=[]): Raw monitor ignores period argument.\n"
       ]
      },
      {
       "output_type": "stream",
       "stream": "stderr",
       "text": [
        "WARNING:tvb.simulator.common:Raw(period=0.0, variables_of_interest=[]): Raw monitor ignores period argument.\n"
       ]
      },
      {
       "output_type": "stream",
       "stream": "stderr",
       "text": [
        "WARNING:tvb.simulator.common:Raw(period=0.0, variables_of_interest=[]): Raw monitor ignores period argument.\n"
       ]
      },
      {
       "output_type": "stream",
       "stream": "stderr",
       "text": [
        "WARNING:tvb.simulator.common:Raw(period=0.0, variables_of_interest=[]): Raw monitor ignores period argument.\n"
       ]
      },
      {
       "output_type": "stream",
       "stream": "stdout",
       "text": [
        "0 / 64\n",
        "8 / 64"
       ]
      },
      {
       "output_type": "stream",
       "stream": "stderr",
       "text": [
        "WARNING:tvb.simulator.common:Raw(period=0.0, variables_of_interest=[]): Raw monitor ignores period argument.\n"
       ]
      },
      {
       "output_type": "stream",
       "stream": "stderr",
       "text": [
        "WARNING:tvb.simulator.common:Raw(period=0.0, variables_of_interest=[]): Raw monitor ignores period argument.\n"
       ]
      },
      {
       "output_type": "stream",
       "stream": "stderr",
       "text": [
        "WARNING:tvb.simulator.common:Raw(period=0.0, variables_of_interest=[]): Raw monitor ignores period argument.\n"
       ]
      },
      {
       "output_type": "stream",
       "stream": "stderr",
       "text": [
        "WARNING:tvb.simulator.common:Raw(period=0.0, variables_of_interest=[]): Raw monitor ignores period argument.\n"
       ]
      },
      {
       "output_type": "stream",
       "stream": "stderr",
       "text": [
        "WARNING:tvb.simulator.common:Raw(period=0.0, variables_of_interest=[]): Raw monitor ignores period argument.\n"
       ]
      },
      {
       "output_type": "stream",
       "stream": "stderr",
       "text": [
        "WARNING:tvb.simulator.common:Raw(period=0.0, variables_of_interest=[]): Raw monitor ignores period argument.\n"
       ]
      },
      {
       "output_type": "stream",
       "stream": "stderr",
       "text": [
        "WARNING:tvb.simulator.common:Raw(period=0.0, variables_of_interest=[]): Raw monitor ignores period argument.\n"
       ]
      },
      {
       "output_type": "stream",
       "stream": "stderr",
       "text": [
        "WARNING:tvb.simulator.common:Raw(period=0.0, variables_of_interest=[]): Raw monitor ignores period argument.\n"
       ]
      },
      {
       "output_type": "stream",
       "stream": "stdout",
       "text": [
        "\n",
        "16 / 64"
       ]
      },
      {
       "output_type": "stream",
       "stream": "stderr",
       "text": [
        "WARNING:tvb.simulator.common:Raw(period=0.0, variables_of_interest=[]): Raw monitor ignores period argument.\n"
       ]
      },
      {
       "output_type": "stream",
       "stream": "stderr",
       "text": [
        "WARNING:tvb.simulator.common:Raw(period=0.0, variables_of_interest=[]): Raw monitor ignores period argument.\n"
       ]
      },
      {
       "output_type": "stream",
       "stream": "stderr",
       "text": [
        "WARNING:tvb.simulator.common:Raw(period=0.0, variables_of_interest=[]): Raw monitor ignores period argument.\n"
       ]
      },
      {
       "output_type": "stream",
       "stream": "stderr",
       "text": [
        "WARNING:tvb.simulator.common:Raw(period=0.0, variables_of_interest=[]): Raw monitor ignores period argument.\n"
       ]
      },
      {
       "output_type": "stream",
       "stream": "stderr",
       "text": [
        "WARNING:tvb.simulator.common:Raw(period=0.0, variables_of_interest=[]): Raw monitor ignores period argument.\n"
       ]
      },
      {
       "output_type": "stream",
       "stream": "stderr",
       "text": [
        "WARNING:tvb.simulator.common:Raw(period=0.0, variables_of_interest=[]): Raw monitor ignores period argument.\n"
       ]
      },
      {
       "output_type": "stream",
       "stream": "stderr",
       "text": [
        "WARNING:tvb.simulator.common:Raw(period=0.0, variables_of_interest=[]): Raw monitor ignores period argument.\n"
       ]
      },
      {
       "output_type": "stream",
       "stream": "stderr",
       "text": [
        "WARNING:tvb.simulator.common:Raw(period=0.0, variables_of_interest=[]): Raw monitor ignores period argument.\n"
       ]
      },
      {
       "output_type": "stream",
       "stream": "stdout",
       "text": [
        "\n",
        "24 / 64"
       ]
      },
      {
       "output_type": "stream",
       "stream": "stderr",
       "text": [
        "WARNING:tvb.simulator.common:Raw(period=0.0, variables_of_interest=[]): Raw monitor ignores period argument.\n"
       ]
      },
      {
       "output_type": "stream",
       "stream": "stderr",
       "text": [
        "WARNING:tvb.simulator.common:Raw(period=0.0, variables_of_interest=[]): Raw monitor ignores period argument.\n"
       ]
      },
      {
       "output_type": "stream",
       "stream": "stderr",
       "text": [
        "WARNING:tvb.simulator.common:Raw(period=0.0, variables_of_interest=[]): Raw monitor ignores period argument.\n"
       ]
      },
      {
       "output_type": "stream",
       "stream": "stderr",
       "text": [
        "WARNING:tvb.simulator.common:Raw(period=0.0, variables_of_interest=[]): Raw monitor ignores period argument.\n"
       ]
      },
      {
       "output_type": "stream",
       "stream": "stderr",
       "text": [
        "WARNING:tvb.simulator.common:Raw(period=0.0, variables_of_interest=[]): Raw monitor ignores period argument.\n"
       ]
      },
      {
       "output_type": "stream",
       "stream": "stderr",
       "text": [
        "WARNING:tvb.simulator.common:Raw(period=0.0, variables_of_interest=[]): Raw monitor ignores period argument.\n"
       ]
      },
      {
       "output_type": "stream",
       "stream": "stderr",
       "text": [
        "WARNING:tvb.simulator.common:Raw(period=0.0, variables_of_interest=[]): Raw monitor ignores period argument.\n"
       ]
      },
      {
       "output_type": "stream",
       "stream": "stderr",
       "text": [
        "WARNING:tvb.simulator.common:Raw(period=0.0, variables_of_interest=[]): Raw monitor ignores period argument.\n"
       ]
      },
      {
       "output_type": "stream",
       "stream": "stdout",
       "text": [
        "\n",
        "32 / 64"
       ]
      },
      {
       "output_type": "stream",
       "stream": "stderr",
       "text": [
        "WARNING:tvb.simulator.common:Raw(period=0.0, variables_of_interest=[]): Raw monitor ignores period argument.\n"
       ]
      },
      {
       "output_type": "stream",
       "stream": "stderr",
       "text": [
        "WARNING:tvb.simulator.common:Raw(period=0.0, variables_of_interest=[]): Raw monitor ignores period argument.\n"
       ]
      },
      {
       "output_type": "stream",
       "stream": "stderr",
       "text": [
        "WARNING:tvb.simulator.common:Raw(period=0.0, variables_of_interest=[]): Raw monitor ignores period argument.\n"
       ]
      },
      {
       "output_type": "stream",
       "stream": "stderr",
       "text": [
        "WARNING:tvb.simulator.common:Raw(period=0.0, variables_of_interest=[]): Raw monitor ignores period argument.\n"
       ]
      },
      {
       "output_type": "stream",
       "stream": "stderr",
       "text": [
        "WARNING:tvb.simulator.common:Raw(period=0.0, variables_of_interest=[]): Raw monitor ignores period argument.\n"
       ]
      },
      {
       "output_type": "stream",
       "stream": "stderr",
       "text": [
        "WARNING:tvb.simulator.common:Raw(period=0.0, variables_of_interest=[]): Raw monitor ignores period argument.\n"
       ]
      },
      {
       "output_type": "stream",
       "stream": "stderr",
       "text": [
        "WARNING:tvb.simulator.common:Raw(period=0.0, variables_of_interest=[]): Raw monitor ignores period argument.\n"
       ]
      },
      {
       "output_type": "stream",
       "stream": "stderr",
       "text": [
        "WARNING:tvb.simulator.common:Raw(period=0.0, variables_of_interest=[]): Raw monitor ignores period argument.\n"
       ]
      },
      {
       "output_type": "stream",
       "stream": "stdout",
       "text": [
        "\n",
        "40 / 64"
       ]
      },
      {
       "output_type": "stream",
       "stream": "stderr",
       "text": [
        "WARNING:tvb.simulator.common:Raw(period=0.0, variables_of_interest=[]): Raw monitor ignores period argument.\n"
       ]
      },
      {
       "output_type": "stream",
       "stream": "stderr",
       "text": [
        "WARNING:tvb.simulator.common:Raw(period=0.0, variables_of_interest=[]): Raw monitor ignores period argument.\n"
       ]
      },
      {
       "output_type": "stream",
       "stream": "stderr",
       "text": [
        "WARNING:tvb.simulator.common:Raw(period=0.0, variables_of_interest=[]): Raw monitor ignores period argument.\n"
       ]
      },
      {
       "output_type": "stream",
       "stream": "stderr",
       "text": [
        "WARNING:tvb.simulator.common:Raw(period=0.0, variables_of_interest=[]): Raw monitor ignores period argument.\n"
       ]
      },
      {
       "output_type": "stream",
       "stream": "stderr",
       "text": [
        "WARNING:tvb.simulator.common:Raw(period=0.0, variables_of_interest=[]): Raw monitor ignores period argument.\n"
       ]
      },
      {
       "output_type": "stream",
       "stream": "stderr",
       "text": [
        "WARNING:tvb.simulator.common:Raw(period=0.0, variables_of_interest=[]): Raw monitor ignores period argument.\n"
       ]
      },
      {
       "output_type": "stream",
       "stream": "stderr",
       "text": [
        "WARNING:tvb.simulator.common:Raw(period=0.0, variables_of_interest=[]): Raw monitor ignores period argument.\n"
       ]
      },
      {
       "output_type": "stream",
       "stream": "stderr",
       "text": [
        "WARNING:tvb.simulator.common:Raw(period=0.0, variables_of_interest=[]): Raw monitor ignores period argument.\n"
       ]
      },
      {
       "output_type": "stream",
       "stream": "stdout",
       "text": [
        "\n",
        "48 / 64"
       ]
      },
      {
       "output_type": "stream",
       "stream": "stderr",
       "text": [
        "WARNING:tvb.simulator.common:Raw(period=0.0, variables_of_interest=[]): Raw monitor ignores period argument.\n"
       ]
      },
      {
       "output_type": "stream",
       "stream": "stderr",
       "text": [
        "WARNING:tvb.simulator.common:Raw(period=0.0, variables_of_interest=[]): Raw monitor ignores period argument.\n"
       ]
      },
      {
       "output_type": "stream",
       "stream": "stderr",
       "text": [
        "WARNING:tvb.simulator.common:Raw(period=0.0, variables_of_interest=[]): Raw monitor ignores period argument.\n"
       ]
      },
      {
       "output_type": "stream",
       "stream": "stderr",
       "text": [
        "WARNING:tvb.simulator.common:Raw(period=0.0, variables_of_interest=[]): Raw monitor ignores period argument.\n"
       ]
      },
      {
       "output_type": "stream",
       "stream": "stderr",
       "text": [
        "WARNING:tvb.simulator.common:Raw(period=0.0, variables_of_interest=[]): Raw monitor ignores period argument.\n"
       ]
      },
      {
       "output_type": "stream",
       "stream": "stderr",
       "text": [
        "WARNING:tvb.simulator.common:Raw(period=0.0, variables_of_interest=[]): Raw monitor ignores period argument.\n"
       ]
      },
      {
       "output_type": "stream",
       "stream": "stderr",
       "text": [
        "WARNING:tvb.simulator.common:Raw(period=0.0, variables_of_interest=[]): Raw monitor ignores period argument.\n"
       ]
      },
      {
       "output_type": "stream",
       "stream": "stderr",
       "text": [
        "WARNING:tvb.simulator.common:Raw(period=0.0, variables_of_interest=[]): Raw monitor ignores period argument.\n"
       ]
      },
      {
       "output_type": "stream",
       "stream": "stdout",
       "text": [
        "\n",
        "56 / 64"
       ]
      },
      {
       "output_type": "stream",
       "stream": "stdout",
       "text": [
        "\n"
       ]
      }
     ],
     "input": [
      "sims = []\n",
      "cas = r_[:0.1:8j]\n",
      "mas = r_[-2.0:2.0:8j]\n",
      "for i, coupling_a in enumerate(cas):\n",
      "    for j, model_a in enumerate(mas):\n",
      "        simi = makesim()\n",
      "        simi.coupling.a[:] = coupling_a\n",
      "        simi.model.a[:] = model_a\n",
      "        sims.append(simi)\n",
      "    print '%d / %d' % (i*len(cas), len(cas)*len(mas))"
     ],
     "language": "python",
     "prompt_number": 6
    },
    {
     "cell_type": "markdown",
     "metadata": {},
     "source": [
      "then build device handler and pack it with those simulations"
     ]
    },
    {
     "cell_type": "code",
     "metadata": {},
     "outputs": [],
     "input": [
      "dh = driver.device_handler.init_like(sims[0])\n",
      "dh.n_thr = dh.n_rthr = len(sims)\n",
      "for i, simi in enumerate(sims):\n",
      "    dh.fill_with(i, simi)"
     ],
     "language": "python",
     "prompt_number": 9
    },
    {
     "cell_type": "markdown",
     "metadata": {},
     "source": [
      "Next, decide the number of steps to take `nsteps` and the downsampling factor `ds`, for the output and allocate data arrays for the state and derivative signals generated by Python code `ys1` & `dys1` and CUDA code `ys2` & `dys2`."
     ]
    },
    {
     "cell_type": "code",
     "metadata": {},
     "outputs": [
      {
       "output_type": "stream",
       "stream": "stdout",
       "text": [
        "0.0141143798828\n"
       ]
      }
     ],
     "input": [
      "nsteps = 10000\n",
      "ds = 50\n",
      "ys1 = zeros((nsteps/ds, dh.n_node, dh.n_svar, len(sims)))\n",
      "ys2 = zeros((nsteps/ds, dh.n_node, dh.n_svar, len(sims)))\n",
      "dys1 = zeros((nsteps/ds, dh.n_node, dh.n_svar, len(sims)))\n",
      "dys2 = zeros((nsteps/ds, dh.n_node, dh.n_svar, len(sims)))\n",
      "print ys1.nbytes/2**30.0"
     ],
     "language": "python",
     "prompt_number": 10
    },
    {
     "cell_type": "markdown",
     "metadata": {},
     "source": [
      "Initialize each simulation with a sufficiently large length given `nsteps` (`nsteps = 10000`, `dt=2**-5`, so ~300 s)"
     ]
    },
    {
     "cell_type": "code",
     "metadata": {},
     "outputs": [],
     "input": [
      "simgens = [s(simulation_length=1000) for s in sims]"
     ],
     "language": "python",
     "prompt_number": 11
    },
    {
     "cell_type": "markdown",
     "metadata": {},
     "source": [
      "Begin iteration, timing the CPU and GPU independently, filling the data arrays with output"
     ]
    },
    {
     "cell_type": "code",
     "metadata": {},
     "outputs": [
      {
       "output_type": "stream",
       "stream": "stdout",
       "text": [
        "1.59375 4.9632935524 0.397104501724 0.000142539913797\n",
        "3.15625"
       ]
      },
      {
       "output_type": "stream",
       "stream": "stdout",
       "text": [
        " 9.55264997482 0.75296330452 0.000567877015115\n",
        "4.71875"
       ]
      },
      {
       "output_type": "stream",
       "stream": "stdout",
       "text": [
        " 14.1379535198 1.10887765884 0.00134111674188\n",
        "6.28125"
       ]
      },
      {
       "output_type": "stream",
       "stream": "stdout",
       "text": [
        " 18.6971745491 1.46442532539 0.00249399281743\n",
        "7.84375"
       ]
      },
      {
       "output_type": "stream",
       "stream": "stdout",
       "text": [
        " 23.2881941795 1.8182091713 0.00415182281786\n",
        "9.40625"
       ]
      },
      {
       "output_type": "stream",
       "stream": "stdout",
       "text": [
        " 27.8681344986 2.16966938972 0.00642474514863\n",
        "10.96875"
       ]
      },
      {
       "output_type": "stream",
       "stream": "stdout",
       "text": [
        " 32.427759409 2.51905012131 0.00940553879825\n",
        "12.53125"
       ]
      },
      {
       "output_type": "stream",
       "stream": "stdout",
       "text": [
        " 37.0203418732 2.86614608765 0.0131782664611\n",
        "14.09375"
       ]
      },
      {
       "output_type": "stream",
       "stream": "stdout",
       "text": [
        " 41.6301016808 3.20829463005 0.0178313596644\n",
        "15.65625"
       ]
      },
      {
       "output_type": "stream",
       "stream": "stdout",
       "text": [
        " 46.2217769623 3.54718399048 0.0233618106589\n",
        "17.21875"
       ]
      },
      {
       "output_type": "stream",
       "stream": "stdout",
       "text": [
        " 50.867487669 3.88072609901 0.0297901950913\n",
        "18.78125"
       ]
      },
      {
       "output_type": "stream",
       "stream": "stdout",
       "text": [
        " 55.5097801685 4.2097864151 0.0372248384342\n",
        "20.34375"
       ]
      },
      {
       "output_type": "stream",
       "stream": "stdout",
       "text": [
        " 60.1265451908 4.53456783295 0.0455728776785\n",
        "21.90625"
       ]
      },
      {
       "output_type": "stream",
       "stream": "stdout",
       "text": [
        " 64.7606256008 4.85456609726 0.0546975207799\n",
        "23.46875"
       ]
      },
      {
       "output_type": "stream",
       "stream": "stdout",
       "text": [
        " 69.3503863811 5.17079424858 0.0647003786448\n",
        "25.03125"
       ]
      },
      {
       "output_type": "stream",
       "stream": "stdout",
       "text": [
        " 73.9347717762 5.48246097565 0.0756337383714\n",
        "26.59375"
       ]
      },
      {
       "output_type": "stream",
       "stream": "stdout",
       "text": [
        " 78.5102417469 5.79015183449 0.0873076839497\n",
        "28.15625"
       ]
      },
      {
       "output_type": "stream",
       "stream": "stdout",
       "text": [
        " 83.0616371632 6.09519195557 0.0997795134632\n",
        "29.71875"
       ]
      },
      {
       "output_type": "stream",
       "stream": "stdout",
       "text": [
        " 87.6369788647 6.39846897125 0.113128197067\n",
        "31.28125"
       ]
      },
      {
       "output_type": "stream",
       "stream": "stdout",
       "text": [
        " 92.2200734615 6.69957208633 0.127356977886\n",
        "32.84375"
       ]
      },
      {
       "output_type": "stream",
       "stream": "stdout",
       "text": [
        " 96.5663080215 6.99844646454 0.14249183536\n",
        "34.40625"
       ]
      },
      {
       "output_type": "stream",
       "stream": "stdout",
       "text": [
        " 100.722664118 7.29587626457 0.158581225701\n",
        "35.96875"
       ]
      },
      {
       "output_type": "stream",
       "stream": "stdout",
       "text": [
        " 104.855521679 7.59265899658 0.175683358146\n",
        "37.53125"
       ]
      },
      {
       "output_type": "stream",
       "stream": "stdout",
       "text": [
        " 108.999497175 7.88998150826 0.193864724357\n",
        "39.09375"
       ]
      },
      {
       "output_type": "stream",
       "stream": "stdout",
       "text": [
        " 113.178436518 8.18719744682 0.213197636266\n",
        "40.65625"
       ]
      },
      {
       "output_type": "stream",
       "stream": "stdout",
       "text": [
        " 117.328037739 8.48432683945 0.233755625095\n",
        "42.21875"
       ]
      },
      {
       "output_type": "stream",
       "stream": "stdout",
       "text": [
        " 121.464780569 8.78169202805 0.255608512059\n",
        "43.78125"
       ]
      },
      {
       "output_type": "stream",
       "stream": "stdout",
       "text": [
        " 125.6579988 9.0795955658 0.278817321243\n",
        "45.34375"
       ]
      },
      {
       "output_type": "stream",
       "stream": "stdout",
       "text": [
        " 129.703779697 9.37574410439 0.303427900623\n",
        "46.90625"
       ]
      },
      {
       "output_type": "stream",
       "stream": "stdout",
       "text": [
        " 133.556905746 9.67134404182 0.329467089387\n",
        "48.46875"
       ]
      },
      {
       "output_type": "stream",
       "stream": "stdout",
       "text": [
        " 137.305437088 9.96577143669 0.356941307622\n",
        "50.03125"
       ]
      },
      {
       "output_type": "stream",
       "stream": "stdout",
       "text": [
        " 140.995431185 10.25989604 0.385836869606\n",
        "51.59375"
       ]
      },
      {
       "output_type": "stream",
       "stream": "stdout",
       "text": [
        " 144.712120056 10.5538136959 0.416122455617\n",
        "53.15625"
       ]
      },
      {
       "output_type": "stream",
       "stream": "stdout",
       "text": [
        " 148.411329746 10.8469364643 0.447755708291\n",
        "54.71875"
       ]
      },
      {
       "output_type": "stream",
       "stream": "stdout",
       "text": [
        " 152.185530186 11.1412360668 0.480692751772\n",
        "56.28125"
       ]
      },
      {
       "output_type": "stream",
       "stream": "stdout",
       "text": [
        " 156.018094778 11.4364929199 0.514899719528\n",
        "57.84375"
       ]
      },
      {
       "output_type": "stream",
       "stream": "stdout",
       "text": [
        " 159.857551098 11.7317068577 0.550317834706\n",
        "59.40625"
       ]
      },
      {
       "output_type": "stream",
       "stream": "stdout",
       "text": [
        " 163.525639534 12.025251627 0.586857615395\n",
        "60.96875"
       ]
      },
      {
       "output_type": "stream",
       "stream": "stdout",
       "text": [
        " 167.215710163 12.319024086 0.624743249539\n",
        "62.53125"
       ]
      },
      {
       "output_type": "stream",
       "stream": "stdout",
       "text": [
        " 171.449471474 12.6162600517 0.662740030407\n",
        "64.09375"
       ]
      },
      {
       "output_type": "stream",
       "stream": "stdout",
       "text": [
        " 175.749007702 12.9130585194 0.701448090107\n",
        "65.65625"
       ]
      },
      {
       "output_type": "stream",
       "stream": "stdout",
       "text": [
        " 180.14541626 13.2112529278 0.741504084203\n",
        "67.21875"
       ]
      },
      {
       "output_type": "stream",
       "stream": "stdout",
       "text": [
        " 184.478372335 13.5095071793 0.783112795107\n",
        "68.78125"
       ]
      },
      {
       "output_type": "stream",
       "stream": "stdout",
       "text": [
        " 188.801703691 13.8071634769 0.825747652139\n",
        "70.34375"
       ]
      },
      {
       "output_type": "stream",
       "stream": "stdout",
       "text": [
        " 193.129884005 14.1049716473 0.868879203033\n",
        "71.90625"
       ]
      },
      {
       "output_type": "stream",
       "stream": "stdout",
       "text": [
        " 197.450002909 14.4028484821 0.912466746283\n",
        "73.46875"
       ]
      },
      {
       "output_type": "stream",
       "stream": "stdout",
       "text": [
        " 201.772816658 14.7002458572 0.956452744121\n",
        "75.03125"
       ]
      },
      {
       "output_type": "stream",
       "stream": "stdout",
       "text": [
        " 206.060447454 14.9982414246 1.00075601053\n",
        "76.59375"
       ]
      },
      {
       "output_type": "stream",
       "stream": "stdout",
       "text": [
        " 210.356830597 15.2956418991 1.04526727069\n",
        "78.15625"
       ]
      },
      {
       "output_type": "stream",
       "stream": "stdout",
       "text": [
        " 214.699551105 15.5927660465 1.08984776753\n",
        "79.71875"
       ]
      },
      {
       "output_type": "stream",
       "stream": "stdout",
       "text": [
        " 219.020571947 15.8902359009 1.13433112704\n",
        "81.28125"
       ]
      },
      {
       "output_type": "stream",
       "stream": "stdout",
       "text": [
        " 223.351039648 16.1874959469 1.17852823946\n",
        "82.84375"
       ]
      },
      {
       "output_type": "stream",
       "stream": "stdout",
       "text": [
        " 227.764692307 16.4848406315 1.2222348754\n",
        "84.40625"
       ]
      },
      {
       "output_type": "stream",
       "stream": "stdout",
       "text": [
        " 232.137386084 16.7816820145 1.26524102527\n",
        "85.96875"
       ]
      },
      {
       "output_type": "stream",
       "stream": "stdout",
       "text": [
        " 236.514132023 17.0793049335 1.30733984303\n",
        "87.53125"
       ]
      },
      {
       "output_type": "stream",
       "stream": "stdout",
       "text": [
        " 240.847463846 17.3785073757 1.34833552385\n",
        "89.09375"
       ]
      },
      {
       "output_type": "stream",
       "stream": "stdout",
       "text": [
        " 245.261449099 17.6761219501 1.3880505545\n",
        "90.65625"
       ]
      },
      {
       "output_type": "stream",
       "stream": "stdout",
       "text": [
        " 249.574971199 17.9738550186 1.42633342384\n",
        "92.21875"
       ]
      },
      {
       "output_type": "stream",
       "stream": "stdout",
       "text": [
        " 253.946137667 18.2713956833 1.46306520347\n",
        "93.78125"
       ]
      },
      {
       "output_type": "stream",
       "stream": "stdout",
       "text": [
        " 258.333355665 18.5690233707 1.49816233179\n",
        "95.34375"
       ]
      },
      {
       "output_type": "stream",
       "stream": "stdout",
       "text": [
        " 262.70605278 18.8671066761 1.53157523746\n",
        "96.90625"
       ]
      },
      {
       "output_type": "stream",
       "stream": "stdout",
       "text": [
        " 267.074481964 19.1666924953 1.56328472957\n",
        "98.46875"
       ]
      },
      {
       "output_type": "stream",
       "stream": "stdout",
       "text": [
        " 271.401602268 19.4640066624 1.59329775594\n",
        "100.03125"
       ]
      },
      {
       "output_type": "stream",
       "stream": "stdout",
       "text": [
        " 275.730284929 19.7624673843 1.62164250005\n",
        "101.59375"
       ]
      },
      {
       "output_type": "stream",
       "stream": "stdout",
       "text": [
        " 280.112363815 20.0601434708 1.64836310158\n",
        "103.15625"
       ]
      },
      {
       "output_type": "stream",
       "stream": "stdout",
       "text": [
        " 284.437461615 20.3573572636 1.67351481925\n",
        "104.71875"
       ]
      },
      {
       "output_type": "stream",
       "stream": "stdout",
       "text": [
        " 288.787345886 20.6560578346 1.69716015945\n",
        "106.28125"
       ]
      },
      {
       "output_type": "stream",
       "stream": "stdout",
       "text": [
        " 293.100148439 20.9545948505 1.71936596917\n",
        "107.84375"
       ]
      },
      {
       "output_type": "stream",
       "stream": "stdout",
       "text": [
        " 297.412806749 21.2523705959 1.74020131695\n",
        "109.40625"
       ]
      },
      {
       "output_type": "stream",
       "stream": "stdout",
       "text": [
        " 301.714249372 21.5500450134 1.75973610801\n",
        "110.96875"
       ]
      },
      {
       "output_type": "stream",
       "stream": "stdout",
       "text": [
        " 306.073250055 21.8481638432 1.77804021366\n",
        "112.53125"
       ]
      },
      {
       "output_type": "stream",
       "stream": "stdout",
       "text": [
        " 310.380268574 22.1460859776 1.79518294633\n",
        "114.09375"
       ]
      },
      {
       "output_type": "stream",
       "stream": "stdout",
       "text": [
        " 314.706223488 22.443751812 1.8112327774\n",
        "115.65625"
       ]
      },
      {
       "output_type": "stream",
       "stream": "stdout",
       "text": [
        " 319.122521639 22.7421030998 1.82625711632\n",
        "117.21875"
       ]
      },
      {
       "output_type": "stream",
       "stream": "stdout",
       "text": [
        " 323.432905674 23.0396392345 1.84032216991\n",
        "118.78125"
       ]
      },
      {
       "output_type": "stream",
       "stream": "stdout",
       "text": [
        " 327.752639055 23.3373258114 1.85349283756\n",
        "120.34375"
       ]
      },
      {
       "output_type": "stream",
       "stream": "stdout",
       "text": [
        " 332.081545591 23.6351423264 1.86583266589\n",
        "121.90625"
       ]
      },
      {
       "output_type": "stream",
       "stream": "stdout",
       "text": [
        " 336.376634359 23.9325909615 1.87740384602\n",
        "123.46875"
       ]
      },
      {
       "output_type": "stream",
       "stream": "stdout",
       "text": [
        " 340.68178463 24.2305796146 1.888267259\n",
        "125.03125"
       ]
      },
      {
       "output_type": "stream",
       "stream": "stdout",
       "text": [
        " 345.003060341 24.5284357071 1.89848256207\n",
        "126.59375"
       ]
      },
      {
       "output_type": "stream",
       "stream": "stdout",
       "text": [
        " 349.345661402 24.8269076347 1.90572012224\n",
        "128.15625"
       ]
      },
      {
       "output_type": "stream",
       "stream": "stdout",
       "text": [
        " 353.70152545 25.1251144409 1.91094460327\n",
        "129.71875"
       ]
      },
      {
       "output_type": "stream",
       "stream": "stdout",
       "text": [
        " 358.086834192 25.4238574505 1.91037777208\n",
        "131.28125"
       ]
      },
      {
       "output_type": "stream",
       "stream": "stdout",
       "text": [
        " 362.472797632 25.72153759 1.90860608384\n",
        "132.84375"
       ]
      },
      {
       "output_type": "stream",
       "stream": "stdout",
       "text": [
        " 366.860131264 26.0192296505 1.90807107675\n",
        "134.40625"
       ]
      },
      {
       "output_type": "stream",
       "stream": "stdout",
       "text": [
        " 371.236312151 26.3170707226 1.90880523858\n",
        "135.96875"
       ]
      },
      {
       "output_type": "stream",
       "stream": "stdout",
       "text": [
        " 375.620669603 26.6152100563 1.91085269876\n",
        "137.53125"
       ]
      },
      {
       "output_type": "stream",
       "stream": "stdout",
       "text": [
        " 379.957941532 26.9132454395 1.91427055863\n",
        "139.09375"
       ]
      },
      {
       "output_type": "stream",
       "stream": "stdout",
       "text": [
        " 384.304806709 27.2114422321 1.91913060454\n",
        "140.65625"
       ]
      },
      {
       "output_type": "stream",
       "stream": "stdout",
       "text": [
        " 388.742308617 27.5095903873 1.92291254795\n",
        "142.21875"
       ]
      },
      {
       "output_type": "stream",
       "stream": "stdout",
       "text": [
        " 393.077727556 27.8075270653 1.9192381903\n",
        "143.78125"
       ]
      },
      {
       "output_type": "stream",
       "stream": "stdout",
       "text": [
        " 397.417560816 28.1059138775 1.91721764662\n",
        "145.34375"
       ]
      },
      {
       "output_type": "stream",
       "stream": "stdout",
       "text": [
        " 401.769655466 28.4044518471 1.91451094389\n",
        "146.90625"
       ]
      },
      {
       "output_type": "stream",
       "stream": "stdout",
       "text": [
        " 406.086127758 28.7021341324 1.91045824391\n",
        "148.46875"
       ]
      },
      {
       "output_type": "stream",
       "stream": "stdout",
       "text": [
        " 410.387470484 29.000161171 1.90725033897\n",
        "150.03125"
       ]
      },
      {
       "output_type": "stream",
       "stream": "stdout",
       "text": [
        " 414.696740627 29.2978618145 1.90531283061\n",
        "151.59375"
       ]
      },
      {
       "output_type": "stream",
       "stream": "stdout",
       "text": [
        " 419.011412859 29.5953845978 1.90533188866\n",
        "153.15625"
       ]
      },
      {
       "output_type": "stream",
       "stream": "stdout",
       "text": [
        " 423.32895875 29.8929793835 1.90737319871\n",
        "154.71875"
       ]
      },
      {
       "output_type": "stream",
       "stream": "stdout",
       "text": [
        " 427.635124207 30.1908102036 1.91152138055\n",
        "156.28125"
       ]
      },
      {
       "output_type": "stream",
       "stream": "stdout",
       "text": [
        " 431.970009327 30.4887356758 1.91788137862\n",
        "157.84375"
       ]
      },
      {
       "output_type": "stream",
       "stream": "stdout",
       "text": [
        " 436.285061121 30.786252737 1.92658041124\n",
        "159.40625"
       ]
      },
      {
       "output_type": "stream",
       "stream": "stdout",
       "text": [
        " 440.598741293 31.0842375755 1.9377705229\n",
        "160.96875"
       ]
      },
      {
       "output_type": "stream",
       "stream": "stdout",
       "text": [
        " 444.96115613 31.3826849461 1.95058466761\n",
        "162.53125"
       ]
      },
      {
       "output_type": "stream",
       "stream": "stdout",
       "text": [
        " 449.114499331 31.6794407368 1.96462309145\n",
        "164.09375"
       ]
      },
      {
       "output_type": "stream",
       "stream": "stdout",
       "text": [
        " 453.107225418 31.9759001732 1.97921828426\n",
        "165.65625"
       ]
      },
      {
       "output_type": "stream",
       "stream": "stdout",
       "text": [
        " 457.109291315 32.2724249363 1.99611540159\n",
        "167.21875"
       ]
      },
      {
       "output_type": "stream",
       "stream": "stdout",
       "text": [
        " 461.004804611 32.5682675838 2.01466801851\n",
        "168.78125"
       ]
      },
      {
       "output_type": "stream",
       "stream": "stdout",
       "text": [
        " 464.65378952 32.8620233536 2.03503471582\n",
        "170.34375"
       ]
      },
      {
       "output_type": "stream",
       "stream": "stdout",
       "text": [
        " 468.2929914 33.1556546688 2.05738095696\n",
        "171.90625"
       ]
      },
      {
       "output_type": "stream",
       "stream": "stdout",
       "text": [
        " 471.947152376 33.4498963356 2.08187866243\n",
        "173.46875"
       ]
      },
      {
       "output_type": "stream",
       "stream": "stdout",
       "text": [
        " 475.620520592 33.7450096607 2.10870587646\n",
        "175.03125"
       ]
      },
      {
       "output_type": "stream",
       "stream": "stdout",
       "text": [
        " 479.272284508 34.0386843681 2.13804656342\n",
        "176.59375"
       ]
      },
      {
       "output_type": "stream",
       "stream": "stdout",
       "text": [
        " 482.98319149 34.3335125446 2.17009050922\n",
        "178.15625"
       ]
      },
      {
       "output_type": "stream",
       "stream": "stdout",
       "text": [
        " 486.9999156 34.6303646564 2.20503306424\n",
        "179.71875"
       ]
      },
      {
       "output_type": "stream",
       "stream": "stdout",
       "text": [
        " 491.082150221 34.9275093079 2.24307463542\n",
        "181.28125"
       ]
      },
      {
       "output_type": "stream",
       "stream": "stdout",
       "text": [
        " 494.79133296 35.2219355106 2.28441985274\n",
        "182.84375"
       ]
      },
      {
       "output_type": "stream",
       "stream": "stdout",
       "text": [
        " 498.453155518 35.5155572891 2.32927664462\n",
        "184.40625"
       ]
      },
      {
       "output_type": "stream",
       "stream": "stdout",
       "text": [
        " 502.113627672 35.8092286587 2.37785559266\n",
        "185.96875"
       ]
      },
      {
       "output_type": "stream",
       "stream": "stdout",
       "text": [
        " 505.772452831 36.1030569077 2.43036981927\n",
        "187.53125"
       ]
      },
      {
       "output_type": "stream",
       "stream": "stdout",
       "text": [
        " 509.969598532 36.4006850719 2.48703549342\n",
        "189.09375"
       ]
      },
      {
       "output_type": "stream",
       "stream": "stdout",
       "text": [
        " 514.394838333 36.6983950138 2.5480721224\n",
        "190.65625"
       ]
      },
      {
       "output_type": "stream",
       "stream": "stdout",
       "text": [
        " 518.783449888 36.9967710972 2.61370185639\n",
        "192.21875"
       ]
      },
      {
       "output_type": "stream",
       "stream": "stdout",
       "text": [
        " 523.283293962 37.2959058285 2.68414723942\n",
        "193.78125"
       ]
      },
      {
       "output_type": "stream",
       "stream": "stdout",
       "text": [
        " 527.691513062 37.5940067768 2.75962723748\n",
        "195.34375"
       ]
      },
      {
       "output_type": "stream",
       "stream": "stdout",
       "text": [
        " 532.140192747 37.8919758797 2.84035269302\n",
        "196.90625"
       ]
      },
      {
       "output_type": "stream",
       "stream": "stdout",
       "text": [
        " 536.529978037 38.1900877953 2.92652264465\n",
        "198.46875"
       ]
      },
      {
       "output_type": "stream",
       "stream": "stdout",
       "text": [
        " 540.926949501 38.487995863 3.01832258135\n",
        "200.03125"
       ]
      },
      {
       "output_type": "stream",
       "stream": "stdout",
       "text": [
        " 545.346693039 38.786683321 3.11592446799\n",
        "201.59375"
       ]
      },
      {
       "output_type": "stream",
       "stream": "stdout",
       "text": [
        " 549.761127949 39.0849318504 3.21948722949\n",
        "203.15625"
       ]
      },
      {
       "output_type": "stream",
       "stream": "stdout",
       "text": [
        " 554.17323494 39.3831129074 3.32915676847\n",
        "204.71875"
       ]
      },
      {
       "output_type": "stream",
       "stream": "stdout",
       "text": [
        " 558.594187737 39.6812152863 3.44506542909\n",
        "206.28125"
       ]
      },
      {
       "output_type": "stream",
       "stream": "stdout",
       "text": [
        " 563.012949467 39.9793367386 3.56733132901\n",
        "207.84375"
       ]
      },
      {
       "output_type": "stream",
       "stream": "stdout",
       "text": [
        " 567.426660061 40.2773275375 3.69605879917\n",
        "209.40625"
       ]
      },
      {
       "output_type": "stream",
       "stream": "stdout",
       "text": [
        " 571.837882519 40.575688839 3.8313409141\n",
        "210.96875"
       ]
      },
      {
       "output_type": "stream",
       "stream": "stdout",
       "text": [
        " 576.253184319 40.8740751743 3.97326445009\n",
        "212.53125"
       ]
      },
      {
       "output_type": "stream",
       "stream": "stdout",
       "text": [
        " 580.691204786 41.1723852158 4.12191630373\n",
        "214.09375"
       ]
      },
      {
       "output_type": "stream",
       "stream": "stdout",
       "text": [
        " 585.112080097 41.4704756737 4.27739046969\n",
        "215.65625"
       ]
      },
      {
       "output_type": "stream",
       "stream": "stdout",
       "text": [
        " 589.513236761 41.7685995102 4.43979337033\n",
        "217.21875"
       ]
      },
      {
       "output_type": "stream",
       "stream": "stdout",
       "text": [
        " 593.935985804 42.0663325787 4.60924695236\n",
        "218.78125"
       ]
      },
      {
       "output_type": "stream",
       "stream": "stdout",
       "text": [
        " 598.343112469 42.3637290001 4.78588899537\n",
        "220.34375"
       ]
      },
      {
       "output_type": "stream",
       "stream": "stdout",
       "text": [
        " 602.757268667 42.6620075703 4.96987117009\n",
        "221.90625"
       ]
      },
      {
       "output_type": "stream",
       "stream": "stdout",
       "text": [
        " 607.170763493 42.960139513 5.16135603882\n",
        "223.46875"
       ]
      },
      {
       "output_type": "stream",
       "stream": "stdout",
       "text": [
        " 611.575873613 43.2580127716 5.36051482424\n",
        "225.03125"
       ]
      },
      {
       "output_type": "stream",
       "stream": "stdout",
       "text": [
        " 615.963572502 43.5558886528 5.56752721462\n",
        "226.59375"
       ]
      },
      {
       "output_type": "stream",
       "stream": "stdout",
       "text": [
        " 620.362450838 43.853934288 5.78258468031\n",
        "228.15625"
       ]
      },
      {
       "output_type": "stream",
       "stream": "stdout",
       "text": [
        " 624.776828289 44.1520266533 6.00589632819\n",
        "229.71875"
       ]
      },
      {
       "output_type": "stream",
       "stream": "stdout",
       "text": [
        " 629.277708054 44.4506130219 6.23769562198\n",
        "231.28125"
       ]
      },
      {
       "output_type": "stream",
       "stream": "stdout",
       "text": [
        " 633.758878231 44.7495834827 6.47824358562\n",
        "232.84375"
       ]
      },
      {
       "output_type": "stream",
       "stream": "stdout",
       "text": [
        " 638.247337818 45.0475468636 6.72782386846\n",
        "234.40625"
       ]
      },
      {
       "output_type": "stream",
       "stream": "stdout",
       "text": [
        " 642.737701416 45.3454909325 6.98672560971\n",
        "235.96875"
       ]
      },
      {
       "output_type": "stream",
       "stream": "stdout",
       "text": [
        " 647.209842682 45.6437554359 7.25521166685\n",
        "237.53125"
       ]
      },
      {
       "output_type": "stream",
       "stream": "stdout",
       "text": [
        " 651.813937664 45.9426927567 7.53347527396\n",
        "239.09375"
       ]
      },
      {
       "output_type": "stream",
       "stream": "stdout",
       "text": [
        " 656.351159573 46.2399499416 7.82159056925\n",
        "240.65625"
       ]
      },
      {
       "output_type": "stream",
       "stream": "stdout",
       "text": [
        " 660.897713423 46.5382277966 8.11946580629\n",
        "242.21875"
       ]
      },
      {
       "output_type": "stream",
       "stream": "stdout",
       "text": [
        " 665.440972805 46.8368484974 8.42680778741\n",
        "243.78125"
       ]
      },
      {
       "output_type": "stream",
       "stream": "stdout",
       "text": [
        " 669.995384216 47.1352436543 8.74310432374\n",
        "245.34375"
       ]
      },
      {
       "output_type": "stream",
       "stream": "stdout",
       "text": [
        " 674.537403107 47.4338088036 9.06762679424\n",
        "246.90625"
       ]
      },
      {
       "output_type": "stream",
       "stream": "stdout",
       "text": [
        " 679.154007912 47.7327969074 9.39945212631\n",
        "248.46875"
       ]
      },
      {
       "output_type": "stream",
       "stream": "stdout",
       "text": [
        " 683.77632618 48.0309734344 9.73749902085\n",
        "250.03125"
       ]
      },
      {
       "output_type": "stream",
       "stream": "stdout",
       "text": [
        " 688.322367191 48.3298883438 10.0805723753\n",
        "251.59375"
       ]
      },
      {
       "output_type": "stream",
       "stream": "stdout",
       "text": [
        " 692.887013912 48.6289987564 10.4274097855\n",
        "253.15625"
       ]
      },
      {
       "output_type": "stream",
       "stream": "stdout",
       "text": [
        " 697.429056644 48.9279286861 10.7767263159\n",
        "254.71875"
       ]
      },
      {
       "output_type": "stream",
       "stream": "stdout",
       "text": [
        " 701.954413176 49.2265253067 11.1272548664\n",
        "256.28125"
       ]
      },
      {
       "output_type": "stream",
       "stream": "stdout",
       "text": [
        " 706.490490913 49.5249474049 11.4777792982\n",
        "257.84375"
       ]
      },
      {
       "output_type": "stream",
       "stream": "stdout",
       "text": [
        " 711.066069365 49.8232507706 11.8271594682\n",
        "259.40625"
       ]
      },
      {
       "output_type": "stream",
       "stream": "stdout",
       "text": [
        " 715.582739353 50.1223256588 12.1743487356\n",
        "260.96875"
       ]
      },
      {
       "output_type": "stream",
       "stream": "stdout",
       "text": [
        " 720.131251812 50.4201896191 12.5184046846\n",
        "262.53125"
       ]
      },
      {
       "output_type": "stream",
       "stream": "stdout",
       "text": [
        " 724.546853542 50.7184336185 12.8584910804\n",
        "264.09375"
       ]
      },
      {
       "output_type": "stream",
       "stream": "stdout",
       "text": [
        " 729.013094425 51.0172748566 13.1938695714\n",
        "265.65625"
       ]
      },
      {
       "output_type": "stream",
       "stream": "stdout",
       "text": [
        " 733.447408199 51.3154969215 13.5238838933\n",
        "267.21875"
       ]
      },
      {
       "output_type": "stream",
       "stream": "stdout",
       "text": [
        " 737.891179562 51.6131742001 13.8479429162\n",
        "268.78125"
       ]
      },
      {
       "output_type": "stream",
       "stream": "stdout",
       "text": [
        " 742.472513437 51.9107427597 14.1655081513\n",
        "270.34375"
       ]
      },
      {
       "output_type": "stream",
       "stream": "stdout",
       "text": [
        " 746.659821033 52.2073152065 14.4760878774\n",
        "271.90625"
       ]
      },
      {
       "output_type": "stream",
       "stream": "stdout",
       "text": [
        " 751.206644058 52.5059709549 14.7792322565\n",
        "273.46875"
       ]
      },
      {
       "output_type": "stream",
       "stream": "stdout",
       "text": [
        " 755.316470146 52.8020555973 15.074526027\n",
        "275.03125"
       ]
      },
      {
       "output_type": "stream",
       "stream": "stdout",
       "text": [
        " 759.469479799 53.0979018211 15.3615835494\n",
        "276.59375"
       ]
      },
      {
       "output_type": "stream",
       "stream": "stdout",
       "text": [
        " 763.581792355 53.3940410614 15.6400543821\n",
        "278.15625"
       ]
      },
      {
       "output_type": "stream",
       "stream": "stdout",
       "text": [
        " 767.996604681 53.6913557053 15.9096356239\n",
        "279.71875"
       ]
      },
      {
       "output_type": "stream",
       "stream": "stdout",
       "text": [
        " 772.291169882 53.989076376 16.1700817728\n",
        "281.28125"
       ]
      },
      {
       "output_type": "stream",
       "stream": "stdout",
       "text": [
        " 776.773905516 54.287478447 16.4212026252\n",
        "282.84375"
       ]
      },
      {
       "output_type": "stream",
       "stream": "stdout",
       "text": [
        " 781.222043753 54.5855970383 16.6628562319\n",
        "284.40625"
       ]
      },
      {
       "output_type": "stream",
       "stream": "stdout",
       "text": [
        " 785.688990355 54.8838603497 16.8949439891\n",
        "285.96875"
       ]
      },
      {
       "output_type": "stream",
       "stream": "stdout",
       "text": [
        " 790.188134432 55.1824197769 17.1174064971\n",
        "287.53125"
       ]
      },
      {
       "output_type": "stream",
       "stream": "stdout",
       "text": [
        " 794.660115719 55.4808108807 17.3302193228\n",
        "289.09375"
       ]
      },
      {
       "output_type": "stream",
       "stream": "stdout",
       "text": [
        " 799.194570303 55.7800829411 17.5333971661\n",
        "290.65625"
       ]
      },
      {
       "output_type": "stream",
       "stream": "stdout",
       "text": [
        " 803.713732004 56.0783028603 17.7270055579\n",
        "292.21875"
       ]
      },
      {
       "output_type": "stream",
       "stream": "stdout",
       "text": [
        " 808.331985235 56.3770580292 17.9111747294\n",
        "293.78125"
       ]
      },
      {
       "output_type": "stream",
       "stream": "stdout",
       "text": [
        " 812.91838479 56.6757876873 18.0861085642\n",
        "295.34375"
       ]
      },
      {
       "output_type": "stream",
       "stream": "stdout",
       "text": [
        " 817.752248764 56.9743068218 18.2520831948\n",
        "296.90625"
       ]
      },
      {
       "output_type": "stream",
       "stream": "stdout",
       "text": [
        " 822.566448689 57.2727620602 18.4094220409\n",
        "298.46875"
       ]
      },
      {
       "output_type": "stream",
       "stream": "stdout",
       "text": [
        " 827.163505316 57.5714273453 18.558443235\n",
        "300.03125"
       ]
      },
      {
       "output_type": "stream",
       "stream": "stdout",
       "text": [
        " 831.755138397 57.8697888851 18.6993981811\n",
        "301.59375"
       ]
      },
      {
       "output_type": "stream",
       "stream": "stdout",
       "text": [
        " 836.570533991 58.1688666344 18.8324452389\n",
        "303.15625"
       ]
      },
      {
       "output_type": "stream",
       "stream": "stdout",
       "text": [
        " 841.169121742 58.4682953358 18.9576865346\n",
        "304.71875"
       ]
      },
      {
       "output_type": "stream",
       "stream": "stdout",
       "text": [
        " 845.870093346 58.7667658329 19.0752384875\n",
        "306.28125"
       ]
      },
      {
       "output_type": "stream",
       "stream": "stdout",
       "text": [
        " 850.438230038 59.0653190613 19.1852768516\n",
        "307.84375"
       ]
      },
      {
       "output_type": "stream",
       "stream": "stdout",
       "text": [
        " 855.011730909 59.3633205891 19.2880348378\n",
        "309.40625"
       ]
      },
      {
       "output_type": "stream",
       "stream": "stdout",
       "text": [
        " 859.7899189 59.6618387699 19.3837896077\n",
        "310.96875"
       ]
      },
      {
       "output_type": "stream",
       "stream": "stdout",
       "text": [
        " 864.540216684 59.959829092 19.4728726921\n"
       ]
      }
     ],
     "input": [
      "tc, tg = util.timer(), util.timer()\n",
      "for i in range(nsteps):\n",
      "\n",
      "    # iterate each simulation\n",
      "    with tc:\n",
      "        for j, (sgj, smj) in enumerate(zip(simgens, sims)):\n",
      "            ((t, y), ) = next(sgj)\n",
      "            # y.shape==(svar, nnode, nmode)\n",
      "            ys1[i/ds, ..., j] = y[..., 0].T\n",
      "            #dys1[i/ds, ..., j] = smj.dx[..., 0].T\n",
      "\n",
      "    with tg:\n",
      "        dh()\n",
      "\n",
      "    ys2[i/ds, ...] = dh.x.device.get()\n",
      "    dys2[i/ds, ...] = dh.dx1.device.get()\n",
      "\n",
      "    if i/ds and not i%ds:\n",
      "        err = ((ys1[:i/ds] - ys2[:i/ds])**2).sum()/ys1[:i/ds].ptp()/len(sims)\n",
      "        print t, tc.elapsed, tg.elapsed, err"
     ],
     "language": "python",
     "prompt_number": 12
    },
    {
     "cell_type": "markdown",
     "metadata": {},
     "source": [
      "and saving the data arrays once finished:"
     ]
    },
    {
     "cell_type": "code",
     "metadata": {},
     "outputs": [],
     "input": [
      "savez('debug.npz', ys1=ys1, ys2=ys2, dys1=dys1, dys2=dys2)"
     ],
     "language": "python"
    },
    {
     "cell_type": "markdown",
     "metadata": {},
     "source": [
      "Now we can load the data in case we're not going to run the simulation again,"
     ]
    },
    {
     "cell_type": "code",
     "metadata": {},
     "outputs": [],
     "input": [
      "try:\n",
      "    ys1\n",
      "except:\n",
      "    d = load('debug.npz')\n",
      "    ys1 = d['ys1']\n",
      "    ys2 = d['ys2']\n",
      "    dys1 = d['dys1']\n",
      "    dys2 = d['dys2']"
     ],
     "language": "python",
     "prompt_number": 31
    },
    {
     "cell_type": "code",
     "metadata": {},
     "outputs": [
      {
       "output_type": "pyout",
       "prompt_number": 33,
       "text": [
        "(200, 74, 2, 64)"
       ],
       "metadata": {}
      }
     ],
     "input": [
      "ys1.shape"
     ],
     "language": "python",
     "prompt_number": 33
    },
    {
     "cell_type": "code",
     "metadata": {},
     "outputs": [],
     "input": [
      "_y1, _y2, _dy1, _dy2 = [_y[:, 0, 0, ::8].T \n",
      "                         for _y in (ys1, ys2, dys1, dys2)]"
     ],
     "language": "python",
     "prompt_number": 13
    },
    {
     "cell_type": "code",
     "metadata": {},
     "outputs": [
      {
       "output_type": "stream",
       "stream": "stderr",
       "text": [
        "-c:33: RuntimeWarning: divide by zero encountered in divide\n"
       ]
      },
      {
       "output_type": "display_data",
       "png": "[encoded data removed]",
       "text": [
        "<matplotlib.figure.Figure at 0x26b7f910>"
       ],
       "metadata": {}
      }
     ],
     "input": [
      "pl.figure(1)\n",
      "pl.clf()\n",
      "pl.subplot(321)\n",
      "for y in _y1:\n",
      "    pl.plot(y, 'k-')\n",
      "pl.title(\"X(t)\")\n",
      "pl.ylabel(\"Python\")\n",
      "pl.grid(True)\n",
      "pl.xticks(pl.xticks()[0], ())\n",
      "\n",
      "pl.subplot(323)\n",
      "for y in _y2:\n",
      "    pl.plot(y, 'k-')\n",
      "pl.ylabel(\"CUDA\")\n",
      "pl.grid(True)\n",
      "pl.xticks(pl.xticks()[0], ())\n",
      "\n",
      "pl.subplot(322)\n",
      "for y in _dy1:\n",
      "    pl.plot(y, 'k-')\n",
      "pl.title(\"d/dt X(t)\")\n",
      "pl.grid(True)\n",
      "pl.xticks(pl.xticks()[0], ())\n",
      "\n",
      "pl.subplot(324)\n",
      "for y in _dy2:\n",
      "    pl.plot(y, 'k-')\n",
      "pl.grid(True)\n",
      "pl.xticks(pl.xticks()[0], ())\n",
      "\n",
      "pl.subplot(326)\n",
      "for y1, y2 in zip(_dy1, _dy2):\n",
      "    pl.plot(100*(y1-y2)/y1.ptp(), 'k-')\n",
      "pl.xlabel('Time (ms)')\n",
      "pl.grid(True)\n",
      "\n",
      "pl.subplot(325)\n",
      "for y1, y2 in zip(_y1, _y2):\n",
      "    pl.plot(100*(y1-y2)/y1.ptp(), 'k-')\n",
      "pl.xlabel('Time (ms)')\n",
      "pl.grid(True)\n",
      "pl.ylabel('% Rel. Error')\n",
      "\n",
      "pl.tight_layout()"
     ],
     "language": "python",
     "prompt_number": 16
    },
    {
     "cell_type": "code",
     "metadata": {},
     "outputs": [
      {
       "output_type": "pyout",
       "prompt_number": 17,
       "text": [
        "\"\\nxt = r_[-2.:2.:16j]\\nxts = ['%.2f'%x if i%5==0 else '' for i, x in enumerate(xt)]\\npl.xticks(xt, xts)\\nyt = r_[:0.1:16j]\\nyts = ['%.2f'%x if i%5==0 else '' for i, x in enumerate(yt)]\\npl.yticks(yt, yts)\\n\""
       ],
       "metadata": {}
      },
      {
       "output_type": "display_data",
       "png": "[encoded data removed]",
       "text": [
        "<matplotlib.figure.Figure at 0x26b8e090>"
       ],
       "metadata": {}
      }
     ],
     "input": [
      "X, Y = [], []\n",
      "for i, coupling_a in enumerate(cas):\n",
      "    for j, model_a in enumerate(mas):\n",
      "        X.append(model_a)\n",
      "        Y.append(coupling_a)\n",
      "X = array(X).reshape((len(cas), len(mas)))\n",
      "Y = array(Y).reshape((len(cas), len(mas)))\n",
      "\n",
      "pl.figure(2)\n",
      "levels=r_[1.0 : 2.0 : 6j]\n",
      "pl.clf()\n",
      "pl.contour(X, Y, ys1[..., 0, :].std(0).mean(0).reshape((8, 8)), \n",
      "           #levels,\n",
      "            linestyles='dashed')\n",
      "pl.contour(X, Y, ys2[..., 0, :].std(0).mean(0).reshape((8, 8)), \n",
      "           )#levels)\n",
      "pl.ylabel('k')\n",
      "pl.xlabel('a')\n",
      "pl.title('Mean std dev (k, a)')\n",
      "pl.grid(True)\n",
      "pl.colorbar()\n",
      "pl.tight_layout()\n",
      "\"\"\"\n",
      "xt = r_[-2.:2.:16j]\n",
      "xts = ['%.2f'%x if i%5==0 else '' for i, x in enumerate(xt)]\n",
      "pl.xticks(xt, xts)\n",
      "yt = r_[:0.1:16j]\n",
      "yts = ['%.2f'%x if i%5==0 else '' for i, x in enumerate(yt)]\n",
      "pl.yticks(yt, yts)\n",
      "\"\"\""
     ],
     "language": "python",
     "prompt_number": 17
    },
    {
     "cell_type": "code",
     "metadata": {},
     "outputs": [],
     "input": [
      "err = (ys1 - ys2)**2\n",
      "err_par = err.reshape((-1, err.shape[-1])).sum(axis=0)"
     ],
     "language": "python",
     "prompt_number": 24
    },
    {
     "cell_type": "code",
     "metadata": {},
     "outputs": [],
     "input": [
      "save('/home/duke/dev/tvb-library/tvb/simulator/backend/tests/cuda-err-lim.npy', err_par)"
     ],
     "language": "python",
     "prompt_number": 26
    },
    {
     "cell_type": "code",
     "metadata": {},
     "outputs": [],
     "input": [
      ""
     ],
     "language": "python"
    }
   ]
  }
 ],
 "cells": [],
 "metadata": {
  "name": "",
  "signature": "sha256:70dcd319184c71674bda51500d2cfbb5536a907f6f7a5bebd1ee24ef8083f098"
 },
 "nbformat": 3,
 "nbformat_minor": 0
}